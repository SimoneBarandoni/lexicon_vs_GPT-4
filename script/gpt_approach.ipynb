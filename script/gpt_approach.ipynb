{
 "cells": [
  {
   "cell_type": "code",
   "execution_count": 1,
   "id": "a1fd4d02",
   "metadata": {},
   "outputs": [],
   "source": [
    "from openai import OpenAI\n",
    "import pandas as pd\n",
    "\n",
    "client = OpenAI(\n",
    "api_key=\"KEY\",\n",
    ")\n",
    "\n",
    "def rev(prompt):\n",
    "    response = client.chat.completions.create(\n",
    "        model= \"gpt-4\",\n",
    "        temperature=0,\n",
    "        messages= [\n",
    "            {\"role\":\"user\", \"content\":\"\"\"Act like a marketing and software expert. I am going to provide you a software review.\n",
    "            You should extract the needs that the user has expressed in the review and the type of user. \n",
    "            Needs should be returned as System Quality Attributes, which are the following:\n",
    "            Accessibility, Accountability, Accuracy, Adaptability, Administrability, Affordability, Agility, Autonomy, Availability, Compatibility, Composability, Configurability, Correctness, Credibility, Customizability, Debuggability, Degradability, Determinability, Demonstrability, Dependability, Deployability, Discoverability, Distributability, Durability, Effectiveness, Efficiency, Evolvability, Extensibility, Failure resistance, Fault tolerance, Fidelity, Flexibility, Inspectability, Installability, Learnability, Maintainability, Manageability, Mobility, Modifiability, Operability, Portability, Precision, Predictability, Producibility, Recoverability, Reliability, Repeatability, Reproducibility, Resilience, Responsiveness, Reusability, Robustness, Safety, Scalability, Security, Simplicity, Stability, Sustainability, Traceability, Transparency, Understandability, Upgradability, Usability, Vulnerability.\n",
    "            It can happen that a review do not have anything to extract, in this case, write \"no\". For example, if the\n",
    "            user is not explicitly written, just write \"no\".\n",
    "            You should answer with a python dictionary: {\"needs\": \"need1, need2, etc.\", \"users\":\"user1, user2, etc.\"}.\n",
    "            Print, as output, just the dictionary, without other information.\n",
    "            The following are some examples:\n",
    "            REVIEW: very nice app, i can access my files everywhere.\n",
    "            ANSWER: {\"needs\": \"Accessibility\", \"users\": \"no\"}\n",
    "            REVIEW: I don't like the menu of the homepage. I am an architecture an apreciate good design interface.\n",
    "            ANSWER: {\"needs\": \"no\", \"users\": \"architect\"}\n",
    "            \"\"\"},\n",
    "            {\"role\":\"assistant\", \"content\":\"Ok, I'm ready.\"},\n",
    "            {\"role\":\"user\", \"content\":prompt},\n",
    "        ]\n",
    "    )\n",
    "    return response.choices[0].message.content\n"
   ]
  },
  {
   "cell_type": "code",
   "execution_count": 10,
   "id": "b50fe978",
   "metadata": {},
   "outputs": [
    {
     "name": "stdout",
     "output_type": "stream",
     "text": [
      "{\"needs\": \"Security, Accessibility\", \"users\": \"Professional\"}\n"
     ]
    }
   ],
   "source": [
    "print(rev(\"pro file be secure and easily access from anywhere\"))"
   ]
  },
  {
   "cell_type": "code",
   "execution_count": 3,
   "id": "c2bb9be1",
   "metadata": {},
   "outputs": [
    {
     "data": {
      "text/html": [
       "<div>\n",
       "<style scoped>\n",
       "    .dataframe tbody tr th:only-of-type {\n",
       "        vertical-align: middle;\n",
       "    }\n",
       "\n",
       "    .dataframe tbody tr th {\n",
       "        vertical-align: top;\n",
       "    }\n",
       "\n",
       "    .dataframe thead th {\n",
       "        text-align: right;\n",
       "    }\n",
       "</style>\n",
       "<table border=\"1\" class=\"dataframe\">\n",
       "  <thead>\n",
       "    <tr style=\"text-align: right;\">\n",
       "      <th></th>\n",
       "      <th>Unnamed: 0</th>\n",
       "      <th>text</th>\n",
       "      <th>extracted_needs</th>\n",
       "      <th>extracted_users</th>\n",
       "    </tr>\n",
       "  </thead>\n",
       "  <tbody>\n",
       "    <tr>\n",
       "      <th>0</th>\n",
       "      <td>0</td>\n",
       "      <td>nice and easy but folder create function be no...</td>\n",
       "      <td>availab</td>\n",
       "      <td>man</td>\n",
       "    </tr>\n",
       "    <tr>\n",
       "      <th>1</th>\n",
       "      <td>1</td>\n",
       "      <td>no don t install this in your mobile not at al...</td>\n",
       "      <td>mobil</td>\n",
       "      <td>man</td>\n",
       "    </tr>\n",
       "    <tr>\n",
       "      <th>2</th>\n",
       "      <td>2</td>\n",
       "      <td>very speedy app easy to use app that be quick ...</td>\n",
       "      <td>effecti</td>\n",
       "      <td>NaN</td>\n",
       "    </tr>\n",
       "    <tr>\n",
       "      <th>3</th>\n",
       "      <td>3</td>\n",
       "      <td>I absolutely love this app I have try other ap...</td>\n",
       "      <td>availab</td>\n",
       "      <td>NaN</td>\n",
       "    </tr>\n",
       "    <tr>\n",
       "      <th>4</th>\n",
       "      <td>4</td>\n",
       "      <td>I be happy with the app but I have one problem...</td>\n",
       "      <td>secur</td>\n",
       "      <td>NaN</td>\n",
       "    </tr>\n",
       "  </tbody>\n",
       "</table>\n",
       "</div>"
      ],
      "text/plain": [
       "   Unnamed: 0                                               text   \n",
       "0           0  nice and easy but folder create function be no...  \\\n",
       "1           1  no don t install this in your mobile not at al...   \n",
       "2           2  very speedy app easy to use app that be quick ...   \n",
       "3           3  I absolutely love this app I have try other ap...   \n",
       "4           4  I be happy with the app but I have one problem...   \n",
       "\n",
       "  extracted_needs extracted_users  \n",
       "0         availab             man  \n",
       "1           mobil             man  \n",
       "2         effecti             NaN  \n",
       "3         availab             NaN  \n",
       "4           secur             NaN  "
      ]
     },
     "execution_count": 3,
     "metadata": {},
     "output_type": "execute_result"
    }
   ],
   "source": [
    "df = pd.read_excel(r'..\\data\\lexicon_output.xlsx')\n",
    "df.head(5)"
   ]
  },
  {
   "cell_type": "code",
   "execution_count": 21,
   "id": "d81a90f2",
   "metadata": {},
   "outputs": [],
   "source": [
    "import ast\n",
    "needs = []\n",
    "users = []\n",
    "for i in df[\"text\"]:\n",
    "    ris = rev(i)\n",
    "    ris = ast.literal_eval(ris)\n",
    "    n = ris[\"needs\"]\n",
    "    u = ris[\"users\"]\n",
    "    needs.append(n)\n",
    "    users.append(u)\n"
   ]
  },
  {
   "cell_type": "code",
   "execution_count": 22,
   "id": "a54965ce",
   "metadata": {},
   "outputs": [
    {
     "name": "stderr",
     "output_type": "stream",
     "text": [
      "<ipython-input-22-e9044def0c54>:3: UserWarning: Pandas requires version '1.4.3' or newer of 'xlsxwriter' (version '1.3.8' currently installed).\n",
      "  df.to_excel(\"D:\\\\Dataset\\\\recensioni_software_estratto_gpt.xlsx\")\n"
     ]
    }
   ],
   "source": [
    "df[\"needs_gpt\"] = needs\n",
    "df[\"users_gpt\"] = users"
   ]
  },
  {
   "cell_type": "markdown",
   "id": "e723f32c",
   "metadata": {},
   "source": [
    "<h3>Cleaning the system quality attributes in the lexicon approach results</h3>"
   ]
  },
  {
   "cell_type": "code",
   "execution_count": null,
   "id": "9a18b854",
   "metadata": {},
   "outputs": [],
   "source": [
    "terms = [\n",
    "    \"accessibility\",\n",
    "    \"accountability\",\n",
    "    \"accuracy\",\n",
    "    \"adaptability\",\n",
    "    \"administrability\",\n",
    "    \"affordability\",\n",
    "    \"agility\",\n",
    "    \"autonomy\",\n",
    "    \"availability\",\n",
    "    \"compatibility\",\n",
    "    \"composability\",\n",
    "    \"configurability\",\n",
    "    \"correctness\",\n",
    "    \"credibility\",\n",
    "    \"customizability\",\n",
    "    \"debuggability\",\n",
    "    \"degradability\",\n",
    "    \"determinability\",\n",
    "    \"demonstrability\",\n",
    "    \"dependability\",\n",
    "    \"deployability\",\n",
    "    \"discoverability\",\n",
    "    \"distributability\",\n",
    "    \"durability\",\n",
    "    \"effectiveness\",\n",
    "    \"efficiency\",\n",
    "    \"evolvability\",\n",
    "    \"extensibility\",\n",
    "    \"failure transparency\",\n",
    "    \"fault tolerance\",\n",
    "    \"fidelity\",\n",
    "    \"flexibility\",\n",
    "    \"inspectability\",\n",
    "    \"installability\",\n",
    "    \"learnability\",\n",
    "    \"maintainability\",\n",
    "    \"manageability\",\n",
    "    \"mobility\",\n",
    "    \"modifiability\",\n",
    "    \"operability\",\n",
    "    \"portability\",\n",
    "    \"precision\",\n",
    "    \"predictability\",\n",
    "    \"producibility\",\n",
    "    \"recoverability\",\n",
    "    \"reliability\",\n",
    "    \"repeatability\",\n",
    "    \"reproducibility\",\n",
    "    \"resilience\",\n",
    "    \"responsiveness\",\n",
    "    \"reusability\",\n",
    "    \"robustness\",\n",
    "    \"safety\",\n",
    "    \"scalability\",\n",
    "    \"securability\",\n",
    "    \"simplicity\",\n",
    "    \"stability\",\n",
    "    \"sustainability\",\n",
    "    \"traceability\",\n",
    "    \"transparency\",\n",
    "    \"understandability\",\n",
    "    \"upgradability\",\n",
    "    \"usability\",\n",
    "    \"vulnerability\"\n",
    "]\n",
    "\n",
    "old = []\n",
    "for i in df[\"extracted_needs\"]:\n",
    "    temp = i.split(\",\")\n",
    "    lista_good = \"\"\n",
    "    for j in temp:\n",
    "        for o in terms:\n",
    "            if j in o:\n",
    "                lista_good = lista_good + o + \",\"\n",
    "    old.append(lista_good)\n",
    "    \n",
    "df[\"lexicon_need\"] = old"
   ]
  },
  {
   "cell_type": "code",
   "execution_count": null,
   "id": "eb6bcf07",
   "metadata": {},
   "outputs": [],
   "source": [
    "df.to_excel(r\"..\\data\\lexicon_gpt_output.xlsx\")"
   ]
  }
 ],
 "metadata": {
  "kernelspec": {
   "display_name": "Python 3",
   "language": "python",
   "name": "python3"
  },
  "language_info": {
   "codemirror_mode": {
    "name": "ipython",
    "version": 3
   },
   "file_extension": ".py",
   "mimetype": "text/x-python",
   "name": "python",
   "nbconvert_exporter": "python",
   "pygments_lexer": "ipython3",
   "version": "3.8.8"
  }
 },
 "nbformat": 4,
 "nbformat_minor": 5
}
